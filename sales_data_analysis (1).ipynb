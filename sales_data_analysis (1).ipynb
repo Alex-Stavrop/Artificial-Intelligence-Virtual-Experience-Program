{
 "cells": [
  {
   "cell_type": "markdown",
   "id": "0e5a2a72",
   "metadata": {},
   "source": [
    "## Sales Data Analysis\n",
    "\n",
    "In this notebook, we conduct an exploratory data analysis (EDA) on a sample sales dataset to understand its properties and derive initial insights.\n"
   ]
  },
  {
   "cell_type": "markdown",
   "id": "ce2547e4",
   "metadata": {},
   "source": [
    "We'll start by loading our dataset and examining the first few rows. This initial inspection will give us a clear understanding of the structure and nature of the data.\n"
   ]
  },
  {
   "cell_type": "code",
   "execution_count": null,
   "id": "05640952",
   "metadata": {},
   "outputs": [],
   "source": [
    "import pandas as pd\n",
    "\n",
    "# Load the CSV data into a pandas DataFrame\n",
    "sales_data = pd.read_csv(\"/mnt/data/sample_sales_data.csv\")\n",
    "\n",
    "# Display the first few rows of the dataset\n",
    "sales_data.head()\n"
   ]
  },
  {
   "cell_type": "markdown",
   "id": "a4b09a6e",
   "metadata": {},
   "source": [
    "Next, we'll generate some basic statistics for the numerical columns in the dataset. This will help us understand the distribution of values, as well as provide measures like mean, median, min, and max for each column.\n"
   ]
  },
  {
   "cell_type": "code",
   "execution_count": null,
   "id": "573a8782",
   "metadata": {},
   "outputs": [],
   "source": [
    "# Generate descriptive statistics for the numerical columns\n",
    "sales_data.describe()\n"
   ]
  },
  {
   "cell_type": "markdown",
   "id": "055fb34e",
   "metadata": {},
   "source": [
    "Following this, we'll explore the categorical columns, such as `category`, `customer_type`, and `payment_type`, to understand the distribution of values within these columns.\n"
   ]
  },
  {
   "cell_type": "code",
   "execution_count": null,
   "id": "29b88f5b",
   "metadata": {},
   "outputs": [],
   "source": [
    "# Explore the distribution of categorical columns\n",
    "category_distribution = sales_data['category'].value_counts()\n",
    "customer_type_distribution = sales_data['customer_type'].value_counts()\n",
    "payment_type_distribution = sales_data['payment_type'].value_counts()\n",
    "\n",
    "category_distribution, customer_type_distribution, payment_type_distribution\n"
   ]
  },
  {
   "cell_type": "markdown",
   "id": "ef8d83a9",
   "metadata": {},
   "source": [
    "To get a more visual representation and a better understanding of the data, we'll create some visualizations. Specifically:\n",
    "- A bar chart for product category distribution.\n",
    "- A pie chart for customer type distribution.\n",
    "- A pie chart for payment type distribution.\n"
   ]
  },
  {
   "cell_type": "code",
   "execution_count": null,
   "id": "d738039e",
   "metadata": {},
   "outputs": [],
   "source": [
    "import matplotlib.pyplot as plt\n",
    "import seaborn as sns\n",
    "\n",
    "# Bar chart for product category distribution\n",
    "plt.figure(figsize=(15, 8))\n",
    "sns.barplot(x=category_distribution.index, y=category_distribution.values, palette=\"viridis\")\n",
    "plt.xticks(rotation=90)\n",
    "plt.ylabel('Number of Transactions')\n",
    "plt.xlabel('Product Category')\n",
    "plt.title('Distribution of Product Categories')\n",
    "plt.show()\n",
    "\n",
    "# Pie charts for customer type and payment type distributions\n",
    "fig, ax = plt.subplots(1, 2, figsize=(15, 7))\n",
    "ax[0].pie(customer_type_distribution.values, labels=customer_type_distribution.index, autopct='%1.1f%%', startangle=90, colors=sns.color_palette(\"pastel\", len(customer_type_distribution)))\n",
    "ax[0].set_title('Distribution of Customer Types')\n",
    "ax[1].pie(payment_type_distribution.values, labels=payment_type_distribution.index, autopct='%1.1f%%', startangle=90, colors=sns.color_palette(\"pastel\", len(payment_type_distribution)))\n",
    "ax[1].set_title('Distribution of Payment Types')\n",
    "plt.tight_layout()\n",
    "plt.show()\n"
   ]
  },
  {
   "cell_type": "markdown",
   "id": "ee3238d7",
   "metadata": {},
   "source": [
    "In light of our findings, we have the following recommendations:\n",
    "\n",
    "1. Given the popularity of **fruits** and **vegetables**, consider strategies to enhance their availability and visibility in stores.\n",
    "2. Implement programs or incentives to convert non-members to premium or gold members, enhancing customer loyalty.\n",
    "3. Ensure a seamless payment experience across all payment methods to enhance customer satisfaction.\n",
    "\n",
    "For a more detailed analysis and to answer the client's overarching question of \"How to better stock the items that they sell\", we'd need a more comprehensive dataset with additional features and a more extended period of data collection.\n"
   ]
  }
 ],
 "metadata": {},
 "nbformat": 4,
 "nbformat_minor": 5
}
